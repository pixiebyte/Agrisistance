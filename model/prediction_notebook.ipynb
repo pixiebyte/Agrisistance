{
 "cells": [
  {
   "cell_type": "code",
   "execution_count": null,
   "metadata": {},
   "outputs": [],
   "source": [
    "import tensorflow as tf\n",
    "from tensorflow.keras.models import load_model\n",
    "import numpy as np\n",
    "from sklearn.preprocessing import StandardScaler\n",
    "from sklearn.preprocessing import LabelEncoder\n",
    "import tensorflow as tf\n",
    "from tensorflow.keras.models import Model\n",
    "from tensorflow.keras.layers import Input, Dense, Dropout\n",
    "from tensorflow.keras.models import Model\n",
    "from tensorflow.keras.layers import Input, Dense, Dropout\n",
    "!pip install dill\n",
    "import dill"
   ]
  },
  {
   "cell_type": "code",
   "execution_count": null,
   "metadata": {
    "colab": {
     "base_uri": "https://localhost:8080/"
    },
    "id": "0SXf2lMPTg4z",
    "outputId": "38cb44cf-bba6-44fe-831f-7a7ea82ba808"
   },
   "outputs": [],
   "source": [
    "\n",
    "\n",
    "\n",
    "#get the correct format\n",
    "loaded_model = tf.keras.models.load_model('saved_model/my_model')\n",
    "\n",
    "# Verify that the loaded model is correct\n",
    "loaded_model.summary()\n"
   ]
  },
  {
   "cell_type": "code",
   "execution_count": null,
   "metadata": {
    "id": "Kp6WB_7XYEAv"
   },
   "outputs": [],
   "source": [
    "# Load the saved `X` data and `encoder`\n",
    "X = joblib.load('X_data.pkl')\n",
    "encoder = joblib.load('encoder.pkl')"
   ]
  },
  {
   "cell_type": "code",
   "execution_count": null,
   "metadata": {
    "id": "MoJ8MGcFUnU3"
   },
   "outputs": [],
   "source": [
    "def predict_crops(model, scaler, encoder, input_data, top_percentage=0.2):\n",
    "    print(\"Making predictions...\")\n",
    "    # Scale the input data\n",
    "    input_data_scaled = scaler.transform([input_data])\n",
    "    \n",
    "    # Make predictions\n",
    "    predictions = model.predict(input_data_scaled)\n",
    "    top_n = int(predictions.shape[1] * top_percentage)\n",
    "    top_indices = np.argsort(predictions[0])[-top_n:][::-1]\n",
    "    \n",
    "    predicted_crops = encoder.inverse_transform(np.eye(predictions.shape[1])[top_indices])\n",
    "    \n",
    "    return predicted_crops\n",
    "def get_predictions(input_params):\n",
    "    print(f\"Input parameters: {input_params}\")\n",
    "    input_data = np.array(input_params)\n",
    "    scaler = StandardScaler().fit(X)\n",
    "    predicted_crops = predict_crops(loaded_model, scaler, encoder, input_data)\n",
    "    return predicted_crops"
   ]
  },
  {
   "cell_type": "code",
   "execution_count": null,
   "metadata": {
    "colab": {
     "base_uri": "https://localhost:8080/"
    },
    "id": "k5KaaQYtb3iE",
    "outputId": "56d9d0b0-6ec1-4fdf-e311-72869f6d322d"
   },
   "outputs": [],
   "source": [
    "#here comes the input\n",
    "example_params = [8, 71,100,70, 10, 50, 150]\n",
    "predicted_crops = get_predictions(example_params)#here is the output\n",
    "print(f\"Predicted crops: {predicted_crops}\")"
   ]
  },
  {
   "cell_type": "code",
   "execution_count": null,
   "metadata": {
    "id": "vzmpJY0ZU4cu"
   },
   "outputs": [],
   "source": []
  },
  {
   "cell_type": "code",
   "execution_count": null,
   "metadata": {},
   "outputs": [],
   "source": []
  }
 ],
 "metadata": {
  "colab": {
   "provenance": []
  },
  "kernelspec": {
   "display_name": "Python 3 (ipykernel)",
   "language": "python",
   "name": "python3"
  },
  "language_info": {
   "codemirror_mode": {
    "name": "ipython",
    "version": 3
   },
   "file_extension": ".py",
   "mimetype": "text/x-python",
   "name": "python",
   "nbconvert_exporter": "python",
   "pygments_lexer": "ipython3",
   "version": "3.12.2"
  }
 },
 "nbformat": 4,
 "nbformat_minor": 1
}
